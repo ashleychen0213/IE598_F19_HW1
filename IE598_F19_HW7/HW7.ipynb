{
 "cells": [
  {
   "cell_type": "markdown",
   "metadata": {},
   "source": [
    "# Homework 7"
   ]
  },
  {
   "cell_type": "code",
   "execution_count": 1,
   "metadata": {},
   "outputs": [],
   "source": [
    "import pandas as pd\n",
    "import numpy as np\n",
    "from sklearn.model_selection import train_test_split\n",
    "from sklearn.metrics import accuracy_score\n",
    "from sklearn.model_selection import cross_val_score\n",
    "from sklearn.ensemble import RandomForestClassifier\n",
    "import matplotlib.pyplot as plt\n",
    "import time"
   ]
  },
  {
   "cell_type": "markdown",
   "metadata": {},
   "source": [
    "### Read in the ccdefault dataset"
   ]
  },
  {
   "cell_type": "code",
   "execution_count": 2,
   "metadata": {},
   "outputs": [],
   "source": [
    "df = pd.read_csv(\"/Users/ashleychen/Desktop/UIUC/IE 598/HW6/ccdefault.csv\")"
   ]
  },
  {
   "cell_type": "markdown",
   "metadata": {},
   "source": [
    "### Split the data into train set and test set"
   ]
  },
  {
   "cell_type": "code",
   "execution_count": 3,
   "metadata": {},
   "outputs": [],
   "source": [
    "X = df.iloc[:,1:-1].values\n",
    "y = df.iloc[:,-1].values\n",
    "X_train, X_test, y_train, y_test = train_test_split(X, y, test_size = 0.1, random_state = 1, stratify = y)"
   ]
  },
  {
   "cell_type": "markdown",
   "metadata": {},
   "source": [
    "### Part 1: Fit a random forest model for different n_estimators"
   ]
  },
  {
   "cell_type": "code",
   "execution_count": 4,
   "metadata": {},
   "outputs": [
    {
     "name": "stdout",
     "output_type": "stream",
     "text": [
      "For n_estimators = 10: \n",
      " Accuracy: 0.804593 (+/- 0.006619)\n",
      " Computation time: 12.193 s\n",
      "For n_estimators = 50: \n",
      " Accuracy: 0.815742 (+/- 0.007299)\n",
      " Computation time: 61.987 s\n",
      "For n_estimators = 100: \n",
      " Accuracy: 0.815778 (+/- 0.006296)\n",
      " Computation time: 121.579 s\n",
      "For n_estimators = 200: \n",
      " Accuracy: 0.816815 (+/- 0.006169)\n",
      " Computation time: 240.353 s\n"
     ]
    }
   ],
   "source": [
    "size = [10, 50, 100, 200]\n",
    "for i in size:\n",
    "    forest = RandomForestClassifier(criterion='gini', n_estimators = i, random_state = 1)\n",
    "    t0 = time.process_time()\n",
    "    forest.fit(X_train, y_train)\n",
    "    y_pred = forest.predict(X_test)\n",
    "    scores = cross_val_score(estimator = forest,\n",
    "                             X = X_train,\n",
    "                             y = y_train,\n",
    "                             cv = 10)\n",
    "    mean = scores.mean()\n",
    "    std = scores.std()\n",
    "    print('For n_estimators = '+ str(i) + ': \\n Accuracy: %0.6f (+/- %0.6f)'% \n",
    "          (mean, std))\n",
    "    print(' Computation time:', round(time.process_time() - t0, 3), 's' )"
   ]
  },
  {
   "cell_type": "markdown",
   "metadata": {},
   "source": [
    "### Part 2: Random forest feature importance"
   ]
  },
  {
   "cell_type": "code",
   "execution_count": 5,
   "metadata": {},
   "outputs": [
    {
     "name": "stdout",
     "output_type": "stream",
     "text": [
      " 1) AGE                            0.095263\n",
      " 2) MARRIAGE                       0.067765\n",
      " 3) PAY_6                          0.060900\n",
      " 4) ID                             0.060055\n",
      " 5) BILL_AMT1                      0.054563\n",
      " 6) BILL_AMT2                      0.052115\n",
      " 7) BILL_AMT5                      0.050414\n",
      " 8) BILL_AMT6                      0.050305\n",
      " 9) BILL_AMT3                      0.050253\n",
      "10) BILL_AMT4                      0.049639\n",
      "11) PAY_AMT1                       0.048203\n",
      "12) PAY_0                          0.048059\n",
      "13) PAY_AMT2                       0.046629\n",
      "14) PAY_AMT5                       0.045892\n",
      "15) PAY_AMT3                       0.043523\n",
      "16) PAY_AMT4                       0.043482\n",
      "17) PAY_2                          0.026382\n",
      "18) PAY_3                          0.022653\n",
      "19) SEX                            0.020544\n",
      "20) PAY_4                          0.018764\n",
      "21) PAY_5                          0.018551\n",
      "22) EDUCATION                      0.013955\n",
      "23) LIMIT_BAL                      0.012091\n"
     ]
    },
    {
     "data": {
      "image/png": "[encoded data removed]",
      "text/plain": [
       "<Figure size 432x288 with 1 Axes>"
      ]
     },
     "metadata": {
      "needs_background": "light"
     },
     "output_type": "display_data"
    }
   ],
   "source": [
    "forest = RandomForestClassifier(n_estimators = 200, random_state=1)\n",
    "feat_labels = df.columns[0:]\n",
    "forest.fit(X_train, y_train)\n",
    "importances = forest.feature_importances_\n",
    "indices = np.argsort(importances)[::-1]\n",
    "for f in range(X_train.shape[1]):\n",
    "    print(\"%2d) %-*s %f\" % (f + 1,\n",
    "                            30,\n",
    "                            feat_labels[indices[f]],\n",
    "                            importances[indices[f]]))\n",
    "    \n",
    "plt.title('Feature Importance')\n",
    "plt.bar(range(X_train.shape[1]),\n",
    "        importances[indices],\n",
    "        align='center')\n",
    "plt.xticks(range(X_train.shape[1]),\n",
    "           feat_labels, rotation=90)\n",
    "plt.xlim([-1, X_train.shape[1]])\n",
    "plt.tight_layout()\n",
    "plt.show()"
   ]
  },
  {
   "cell_type": "code",
   "execution_count": 6,
   "metadata": {},
   "outputs": [
    {
     "name": "stdout",
     "output_type": "stream",
     "text": [
      "My name is Yu Chi Chen\n",
      "My NetID is: yuchicc2\n",
      "I hereby certify that I have read the University policy on Academic Integrity and that I am not in violation.\n"
     ]
    }
   ],
   "source": [
    "print(\"My name is Yu Chi Chen\")\n",
    "print(\"My NetID is: yuchicc2\")\n",
    "print(\"I hereby certify that I have read the University policy on Academic Integrity and that I am not in violation.\")"
   ]
  }
 ],
 "metadata": {
  "kernelspec": {
   "display_name": "Python 3",
   "language": "python",
   "name": "python3"
  },
  "language_info": {
   "codemirror_mode": {
    "name": "ipython",
    "version": 3
   },
   "file_extension": ".py",
   "mimetype": "text/x-python",
   "name": "python",
   "nbconvert_exporter": "python",
   "pygments_lexer": "ipython3",
   "version": "3.7.3"
  }
 },
 "nbformat": 4,
 "nbformat_minor": 2
}
