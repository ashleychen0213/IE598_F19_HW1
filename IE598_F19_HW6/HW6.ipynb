{
 "cells": [
  {
   "cell_type": "markdown",
   "metadata": {},
   "source": [
    "# Homework 6"
   ]
  },
  {
   "cell_type": "code",
   "execution_count": 1,
   "metadata": {},
   "outputs": [],
   "source": [
    "import pandas as pd\n",
    "import numpy as np\n",
    "from sklearn.model_selection import train_test_split\n",
    "from sklearn.tree import DecisionTreeClassifier\n",
    "from sklearn.metrics import accuracy_score\n",
    "from sklearn.model_selection import StratifiedKFold\n",
    "from sklearn.model_selection import cross_val_score"
   ]
  },
  {
   "attachments": {},
   "cell_type": "markdown",
   "metadata": {},
   "source": [
    "### Read in the ccdefault dataset"
   ]
  },
  {
   "cell_type": "code",
   "execution_count": 2,
   "metadata": {},
   "outputs": [],
   "source": [
    "df = pd.read_csv(\"/Users/ashleychen/Desktop/UIUC/IE 598/HW6/ccdefault.csv\")"
   ]
  },
  {
   "cell_type": "markdown",
   "metadata": {},
   "source": [
    "## Part 1: Random test train splits"
   ]
  },
  {
   "cell_type": "markdown",
   "metadata": {},
   "source": [
    "### Split the data into train set and test set, and print out the accuracy scores"
   ]
  },
  {
   "cell_type": "code",
   "execution_count": 3,
   "metadata": {},
   "outputs": [
    {
     "name": "stdout",
     "output_type": "stream",
     "text": [
      "For sample 1: \n",
      " Train Accuracy: 0.826000; Test accuracy: 0.823333\n",
      "For sample 2: \n",
      " Train Accuracy: 0.825741; Test accuracy: 0.824667\n",
      "For sample 3: \n",
      " Train Accuracy: 0.828259; Test accuracy: 0.816333\n",
      "For sample 4: \n",
      " Train Accuracy: 0.826963; Test accuracy: 0.820000\n",
      "For sample 5: \n",
      " Train Accuracy: 0.826778; Test accuracy: 0.814667\n",
      "For sample 6: \n",
      " Train Accuracy: 0.827370; Test accuracy: 0.814667\n",
      "For sample 7: \n",
      " Train Accuracy: 0.825926; Test accuracy: 0.824000\n",
      "For sample 8: \n",
      " Train Accuracy: 0.826519; Test accuracy: 0.817333\n",
      "For sample 9: \n",
      " Train Accuracy: 0.826815; Test accuracy: 0.813667\n",
      "For sample 10: \n",
      " Train Accuracy: 0.826259; Test accuracy: 0.818667\n"
     ]
    }
   ],
   "source": [
    "X = df.iloc[:,1:-1].values\n",
    "y = df.iloc[:,-1].values\n",
    "train_accuracy = []\n",
    "test_accuracy = []\n",
    "\n",
    "for i in range(1,11):\n",
    "    X_train, X_test, y_train, y_test = train_test_split(X, y, test_size = 0.1, random_state = i, stratify = y)\n",
    "    dt = DecisionTreeClassifier(random_state = 1, criterion = 'gini', max_depth = 6 )\n",
    "    dt.fit(X_train, y_train)\n",
    "    ytrain_pred = dt.predict(X_train)\n",
    "    ytest_pred = dt.predict(X_test)\n",
    "    \n",
    "    print('For sample '+ str(i) + \": \\n Train Accuracy: %.6f; Test accuracy: %.6f\" % (accuracy_score(y_train, ytrain_pred), accuracy_score(y_test,ytest_pred)))\n",
    "    train_accuracy.append(accuracy_score(y_train, ytrain_pred))\n",
    "    test_accuracy.append(accuracy_score(y_test, ytest_pred))"
   ]
  },
  {
   "attachments": {},
   "cell_type": "markdown",
   "metadata": {},
   "source": [
    "### Calculate the mean and standard deviation on the set of scores"
   ]
  },
  {
   "cell_type": "code",
   "execution_count": 4,
   "metadata": {},
   "outputs": [
    {
     "name": "stdout",
     "output_type": "stream",
     "text": [
      "Train Set:\n",
      " Mean: 0.8266629629629628; Standard Deviation: 0.0007205488686783402\n",
      "Test Set:\n",
      " Mean: 0.8187333333333333; Standard Deviation: 0.0039009970235540765\n"
     ]
    }
   ],
   "source": [
    "print(\"Train Set:\\n Mean: \" + str(np.mean(train_accuracy)) + \"; Standard Deviation: \" + str(np.std(train_accuracy)))\n",
    "print(\"Test Set:\\n Mean: \" + str(np.mean(test_accuracy)) + \"; Standard Deviation: \" + str(np.std(test_accuracy)))"
   ]
  },
  {
   "attachments": {},
   "cell_type": "markdown",
   "metadata": {},
   "source": [
    "## Part 2: Cross validation"
   ]
  },
  {
   "cell_type": "markdown",
   "metadata": {},
   "source": [
    "### Report the individual fold accuracy scores"
   ]
  },
  {
   "cell_type": "code",
   "execution_count": 5,
   "metadata": {},
   "outputs": [
    {
     "name": "stdout",
     "output_type": "stream",
     "text": [
      "Fold:  1, Acc: 0.811921510551647518383333590463735\n",
      "Fold:  2, Acc: 0.823028507960014810151960773509927\n",
      "Fold:  3, Acc: 0.814074074074074061080352748831501\n",
      "Fold:  4, Acc: 0.817777777777777825640725950506749\n",
      "Fold:  5, Acc: 0.826666666666666660745477201999165\n",
      "Fold:  6, Acc: 0.818148148148148179892302778171143\n",
      "Fold:  7, Acc: 0.818518518518518534143879605835536\n",
      "Fold:  8, Acc: 0.824074074074074069962136945832754\n",
      "Fold:  9, Acc: 0.815857725083364182516731943906052\n",
      "Fold: 10, Acc: 0.819192293442015606608208599936916\n"
     ]
    }
   ],
   "source": [
    "kfold = StratifiedKFold(n_splits = 10, random_state = 1).split(X_train, y_train)\n",
    "scores = []\n",
    "for k, (train, test) in enumerate(kfold):\n",
    "    dt.fit(X_train[train], y_train[train])\n",
    "    score = dt.score(X_train[test], y_train[test])\n",
    "    scores.append(score)\n",
    "    print('Fold: %2d, Acc: %.33f' % (k+1, score))"
   ]
  },
  {
   "cell_type": "markdown",
   "metadata": {},
   "source": [
    "### Calculate the mean and standard deviation on the test set of scores"
   ]
  },
  {
   "cell_type": "code",
   "execution_count": 6,
   "metadata": {},
   "outputs": [
    {
     "name": "stdout",
     "output_type": "stream",
     "text": [
      "Test set:\n",
      " Mean: 0.8189259296296301; Standard deviation: 0.004329318056529434\n"
     ]
    }
   ],
   "source": [
    "print(\"Test set:\\n Mean: \" + str(np.mean(scores))+ \"; Standard deviation: \" + str(np.std(scores)))"
   ]
  },
  {
   "cell_type": "code",
   "execution_count": 7,
   "metadata": {},
   "outputs": [
    {
     "name": "stdout",
     "output_type": "stream",
     "text": [
      "My name is Yu Chi Chen\n",
      "My NetID is: yuchicc2\n",
      "I hereby certify that I have read the University policy on Academic Integrity and that I am not in violation.\n"
     ]
    }
   ],
   "source": [
    "print(\"My name is Yu Chi Chen\")\n",
    "print(\"My NetID is: yuchicc2\")\n",
    "print(\"I hereby certify that I have read the University policy on Academic Integrity and that I am not in violation.\")"
   ]
  }
 ],
 "metadata": {
  "kernelspec": {
   "display_name": "Python 3",
   "language": "python",
   "name": "python3"
  },
  "language_info": {
   "codemirror_mode": {
    "name": "ipython",
    "version": 3
   },
   "file_extension": ".py",
   "mimetype": "text/x-python",
   "name": "python",
   "nbconvert_exporter": "python",
   "pygments_lexer": "ipython3",
   "version": "3.7.3"
  }
 },
 "nbformat": 4,
 "nbformat_minor": 2
}
